{
 "cells": [
  {
   "cell_type": "code",
   "execution_count": 4,
   "metadata": {},
   "outputs": [],
   "source": [
    "# ---------------------------------------------------------------------\n",
    "# basic os stuff\n",
    "# ---------------------------------------------------------------------\n",
    "from pathlib import Path       # use instead of os.path and glob\n",
    "import logging                 # use logging instead of print\n",
    "import sys\n",
    "\n",
    "# ---------------------------------------------------------------------\n",
    "# datastructures and scientific computing\n",
    "# ---------------------------------------------------------------------\n",
    "import yaml\n",
    "import numpy as np                       # arrays\n",
    "import scipy as sp                       # useful functions\n",
    "\n",
    "\n",
    "# ---------------------------------------------------------------------\n",
    "# plotting routines\n",
    "# ---------------------------------------------------------------------\n",
    "import matplotlib as mpl\n",
    "import matplotlib.pyplot as plt\n",
    "\n",
    "# ---------------------------------------------------------------------\n",
    "# astronomy related stuff\n",
    "# ---------------------------------------------------------------------\n",
    "\n",
    "from astropy.table import Table,QTable   # useful datastructure\n",
    "from astropy.table import vstack, join   # combine multiple tables\n",
    "from astropy.nddata import NDData, StdDevUncertainty, Cutout2D  \n",
    "\n",
    "from astropy.io import ascii,fits        # open text and fits files\n",
    "\n",
    "from astropy.wcs import WCS              # handle coordinates\n",
    "from astropy.coordinates import SkyCoord # convert pixel to sky coordinates\n",
    "from astropy.coordinates import match_coordinates_sky\n",
    "import astropy.units as u\n",
    "\n",
    "from reproject import reproject_interp\n",
    "\n",
    "\n",
    "logging.basicConfig(stream=sys.stdout,datefmt='%H:%M:%S',level=logging.INFO)\n",
    "logger = logging.getLogger(__name__)\n",
    "\n",
    "basedir  = Path('..')\n",
    "data_ext = Path('a:') "
   ]
  },
  {
   "cell_type": "code",
   "execution_count": 5,
   "metadata": {},
   "outputs": [],
   "source": [
    "def read_associations(folder,target,scalepc,HSTband='nuv',version='v1p2',data='all'):\n",
    "    '''read the catalogue and spatial mask for the associations\n",
    "    \n",
    "    see cluster.io for full documentation\n",
    "    '''\n",
    "    \n",
    "    folder = folder/f'associations_{version}'\n",
    "    target_folder = folder/f'{target}_{HSTband}'\n",
    "    folder = target_folder/f'{scalepc}pc'\n",
    "\n",
    "    # first the association catalogue\n",
    "    catalogue_file = folder / f'{target}_phangshst_associations_{HSTband}_ws{scalepc}pc_{version}.fits'\n",
    "    with fits.open(catalogue_file) as hdul:\n",
    "        associations = Table(hdul[1].data)\n",
    "\n",
    "    # modify table (rename the columns such that the clusters and associations are identical)\n",
    "    associations['SkyCoord'] = SkyCoord(associations['reg_ra']*u.degree,associations['reg_dec']*u.degree)\n",
    "    associations.rename_columns(['reg_id','reg_ra','reg_dec','reg_x','reg_y',\n",
    "                                'reg_dolflux_Age_MinChiSq','reg_dolflux_Mass_MinChiSq','reg_dolflux_Ebv_MinChiSq',\n",
    "                                'reg_dolflux_Age_MinChiSq_err','reg_dolflux_Mass_MinChiSq_err','reg_dolflux_Ebv_MinChiSq_err'],\n",
    "                                ['assoc_ID','RA','DEC','X','Y','age','mass','EBV','age_err','mass_err','EBV_err'])\n",
    "    for col in list(associations.columns):\n",
    "        if col.endswith('mjy'):\n",
    "            associations[f'{col.split(\"_\")[0]}_FLUX'] = 1e20*associations[col]*u.mJy.to(u.erg/u.s/u.cm**2/u.Hz)\n",
    "        if col.endswith('mjy_err'):\n",
    "            associations[f'{col.split(\"_\")[0]}_FLUX_ERR'] = 1e20*associations[col]*u.mJy.to(u.erg/u.s/u.cm**2/u.Hz)\n",
    "\n",
    "    # next the spatial masks for the associations\n",
    "    mask_file = folder / f'{target}_phangshst_associations_{HSTband}_ws{scalepc}pc_idmask_{version}.fits'\n",
    "    with fits.open(mask_file) as hdul:\n",
    "        mask = hdul[0].data.astype(float)\n",
    "        mask[mask==0] = np.nan\n",
    "        associations_mask = NDData(mask,\n",
    "                                mask=mask==0,\n",
    "                                meta=hdul[0].header,\n",
    "                                wcs=WCS(hdul[0].header))\n",
    "\n",
    "\n",
    "    return associations, associations_mask"
   ]
  },
  {
   "cell_type": "code",
   "execution_count": 106,
   "metadata": {},
   "outputs": [
    {
     "name": "stdout",
     "output_type": "stream",
     "text": [
      "NGC3627: 1635 HII-regions in final catalogue\n",
      "NGC3627: 1415 associations in catalogue\n"
     ]
    }
   ],
   "source": [
    "name='NGC3627'\n",
    "version='v1p2'\n",
    "scalepc=32\n",
    "HSTband='nuv'\n",
    "\n",
    "\n",
    "#p = {x:sample_table.loc[name][x] for x in sample_table.columns}\n",
    "\n",
    "# DAP linemaps (Halpha and OIII)\n",
    "filename = data_ext / 'MUSE_DR2.1' / 'MUSEDAP' / f'{name}_MAPS.fits'\n",
    "with fits.open(filename) as hdul:\n",
    "    Halpha = NDData(data=hdul['HA6562_FLUX'].data,\n",
    "                    uncertainty=StdDevUncertainty(hdul['HA6562_FLUX_ERR'].data),\n",
    "                    mask=np.isnan(hdul['HA6562_FLUX'].data),\n",
    "                    meta=hdul['HA6562_FLUX'].header,\n",
    "                    wcs=WCS(hdul['HA6562_FLUX'].header))\n",
    "    OIII = NDData(data=hdul['OIII5006_FLUX'].data,\n",
    "                    uncertainty=StdDevUncertainty(hdul['OIII5006_FLUX_ERR'].data),\n",
    "                    mask=np.isnan(hdul['OIII5006_FLUX'].data),\n",
    "                    meta=hdul['OIII5006_FLUX'].header,\n",
    "                    wcs=WCS(hdul['OIII5006_FLUX'].header)) \n",
    "\n",
    "# the original catalogue from Francesco\n",
    "with fits.open(basedir / 'data' / 'interim' / 'Nebulae_Catalogue_v2p1.fits') as hdul:\n",
    "    nebulae = Table(hdul[1].data)\n",
    "nebulae['SkyCoord'] = SkyCoord(nebulae['cen_ra']*u.deg,nebulae['cen_dec']*u.deg,frame='icrs')\n",
    "\n",
    "with fits.open(basedir/'data'/'interim'/f'Nebulae_Catalogue_v2p1_dig.fits') as hdul:\n",
    "    dig = Table(hdul[1].data)\n",
    "\n",
    "with fits.open(basedir/'data'/'interim'/f'Nebulae_Catalogue_v2p1_fuv.fits') as hdul:\n",
    "    fuv = Table(hdul[1].data)\n",
    "\n",
    "with fits.open(basedir/'data'/'interim'/f'Nebulae_Catalogue_v2p1_eq.fits') as hdul:\n",
    "    eq_width = Table(hdul[1].data)\n",
    "\n",
    "nebulae = join(nebulae,fuv,keys=['gal_name','region_ID'])\n",
    "nebulae = join(nebulae,eq_width,keys=['gal_name','region_ID'])\n",
    "nebulae = join(nebulae,dig,keys=['gal_name','region_ID'])\n",
    "nebulae.rename_columns(['cen_x','cen_y'],['x','y'])\n",
    "\n",
    "with np.errstate(divide='ignore',invalid='ignore'):\n",
    "    nebulae['[SIII]/[SII]'] = np.nan\n",
    "    SII = nebulae['SII6716_FLUX_CORR']+nebulae['SII6730_FLUX_CORR']\n",
    "    SIII = nebulae['SIII6312_FLUX_CORR']+nebulae['SIII9068_FLUX_CORR']\n",
    "    nebulae[SII>0]['[SIII]/[SII]'] = SIII[SII>0]/SII[SII>0]\n",
    "    nebulae['HA/FUV'] = nebulae['HA6562_FLUX_CORR']/nebulae['FUV_FLUX_CORR']\n",
    "    nebulae['HA/FUV_err'] = nebulae['HA/FUV']*np.sqrt((nebulae['HA6562_FLUX_CORR_ERR']/nebulae['HA6562_FLUX_CORR'])**2+(nebulae['FUV_FLUX_CORR_ERR']/nebulae['FUV_FLUX_CORR'])**2)\n",
    "\n",
    "nebulae = filter_table(nebulae,gal_name=name)\n",
    "nebulae.add_index('region_ID')\n",
    "\n",
    "filename = data_ext / 'MUSE_DR2.1' / 'Nebulae catalogue' /'spatial_masks'/f'{name}_nebulae_mask.fits'\n",
    "with fits.open(filename) as hdul:\n",
    "    nebulae_mask = NDData(hdul[0].data.astype(float),mask=Halpha.mask,meta=hdul[0].header,wcs=WCS(hdul[0].header))\n",
    "    nebulae_mask.data[nebulae_mask.data==-1] = np.nan\n",
    "\n",
    "\n",
    "print(f'{name}: {len(nebulae)} HII-regions in final catalogue')\n",
    "\n",
    "\n",
    "target  = name.lower()\n",
    "\n",
    "associations, associations_mask = read_associations(folder=data_ext/'HST'/'stellar_associations',                             \n",
    "                                                    target=target,scalepc=scalepc,\n",
    "                                                    HSTband=HSTband,version=version,data='all')\n",
    "\n",
    "\n",
    "print(f'{name}: {len(associations)} associations in catalogue')"
   ]
  },
  {
   "cell_type": "code",
   "execution_count": 110,
   "metadata": {},
   "outputs": [
    {
     "ename": "MemoryError",
     "evalue": "Unable to allocate 2.92 GiB for an array with shape (196000000, 2) and data type float64",
     "output_type": "error",
     "traceback": [
      "\u001b[1;31m---------------------------------------------------------------------------\u001b[0m",
      "\u001b[1;31mMemoryError\u001b[0m                               Traceback (most recent call last)",
      "\u001b[1;32m<ipython-input-110-2e37472f430d>\u001b[0m in \u001b[0;36m<module>\u001b[1;34m\u001b[0m\n\u001b[0;32m      2\u001b[0m                                 \u001b[0moutput_projection\u001b[0m\u001b[1;33m=\u001b[0m\u001b[0massociations_mask\u001b[0m\u001b[1;33m.\u001b[0m\u001b[0mwcs\u001b[0m\u001b[1;33m,\u001b[0m\u001b[1;33m\u001b[0m\u001b[1;33m\u001b[0m\u001b[0m\n\u001b[0;32m      3\u001b[0m                                 \u001b[0mshape_out\u001b[0m\u001b[1;33m=\u001b[0m\u001b[0massociations_mask\u001b[0m\u001b[1;33m.\u001b[0m\u001b[0mdata\u001b[0m\u001b[1;33m.\u001b[0m\u001b[0mshape\u001b[0m\u001b[1;33m,\u001b[0m\u001b[1;33m\u001b[0m\u001b[1;33m\u001b[0m\u001b[0m\n\u001b[1;32m----> 4\u001b[1;33m                                 order='nearest-neighbor')    \n\u001b[0m\u001b[0;32m      5\u001b[0m \u001b[1;33m\u001b[0m\u001b[0m\n\u001b[0;32m      6\u001b[0m \u001b[1;31m# we scale the associations such that the the id is in the decimal\u001b[0m\u001b[1;33m\u001b[0m\u001b[1;33m\u001b[0m\u001b[1;33m\u001b[0m\u001b[0m\n",
      "\u001b[1;32m~\\miniconda3\\envs\\pymuse\\lib\\site-packages\\astropy\\utils\\decorators.py\u001b[0m in \u001b[0;36mwrapper\u001b[1;34m(*args, **kwargs)\u001b[0m\n\u001b[0;32m    533\u001b[0m                     \u001b[0mwarnings\u001b[0m\u001b[1;33m.\u001b[0m\u001b[0mwarn\u001b[0m\u001b[1;33m(\u001b[0m\u001b[0mmessage\u001b[0m\u001b[1;33m,\u001b[0m \u001b[0mwarning_type\u001b[0m\u001b[1;33m,\u001b[0m \u001b[0mstacklevel\u001b[0m\u001b[1;33m=\u001b[0m\u001b[1;36m2\u001b[0m\u001b[1;33m)\u001b[0m\u001b[1;33m\u001b[0m\u001b[1;33m\u001b[0m\u001b[0m\n\u001b[0;32m    534\u001b[0m \u001b[1;33m\u001b[0m\u001b[0m\n\u001b[1;32m--> 535\u001b[1;33m             \u001b[1;32mreturn\u001b[0m \u001b[0mfunction\u001b[0m\u001b[1;33m(\u001b[0m\u001b[1;33m*\u001b[0m\u001b[0margs\u001b[0m\u001b[1;33m,\u001b[0m \u001b[1;33m**\u001b[0m\u001b[0mkwargs\u001b[0m\u001b[1;33m)\u001b[0m\u001b[1;33m\u001b[0m\u001b[1;33m\u001b[0m\u001b[0m\n\u001b[0m\u001b[0;32m    536\u001b[0m \u001b[1;33m\u001b[0m\u001b[0m\n\u001b[0;32m    537\u001b[0m         \u001b[1;32mreturn\u001b[0m \u001b[0mwrapper\u001b[0m\u001b[1;33m\u001b[0m\u001b[1;33m\u001b[0m\u001b[0m\n",
      "\u001b[1;32m~\\miniconda3\\envs\\pymuse\\lib\\site-packages\\reproject\\interpolation\\high_level.py\u001b[0m in \u001b[0;36mreproject_interp\u001b[1;34m(input_data, output_projection, shape_out, hdu_in, order, independent_celestial_slices, output_array, return_footprint)\u001b[0m\n\u001b[0;32m     84\u001b[0m \u001b[1;33m\u001b[0m\u001b[0m\n\u001b[0;32m     85\u001b[0m     return _reproject_full(array_in, wcs_in, wcs_out, shape_out=shape_out, order=order,\n\u001b[1;32m---> 86\u001b[1;33m                            array_out=output_array, return_footprint=return_footprint)\n\u001b[0m",
      "\u001b[1;32m~\\miniconda3\\envs\\pymuse\\lib\\site-packages\\reproject\\interpolation\\core.py\u001b[0m in \u001b[0;36m_reproject_full\u001b[1;34m(array, wcs_in, wcs_out, shape_out, order, array_out, return_footprint)\u001b[0m\n\u001b[0;32m     80\u001b[0m                             indexing='ij', sparse=False, copy=False)\n\u001b[0;32m     81\u001b[0m     \u001b[0mpixel_out\u001b[0m \u001b[1;33m=\u001b[0m \u001b[1;33m[\u001b[0m\u001b[0mp\u001b[0m\u001b[1;33m.\u001b[0m\u001b[0mravel\u001b[0m\u001b[1;33m(\u001b[0m\u001b[1;33m)\u001b[0m \u001b[1;32mfor\u001b[0m \u001b[0mp\u001b[0m \u001b[1;32min\u001b[0m \u001b[0mpixel_out\u001b[0m\u001b[1;33m]\u001b[0m\u001b[1;33m\u001b[0m\u001b[1;33m\u001b[0m\u001b[0m\n\u001b[1;32m---> 82\u001b[1;33m     \u001b[0mpixel_in\u001b[0m \u001b[1;33m=\u001b[0m \u001b[0mefficient_pixel_to_pixel_with_roundtrip\u001b[0m\u001b[1;33m(\u001b[0m\u001b[0mwcs_out\u001b[0m\u001b[1;33m,\u001b[0m \u001b[0mwcs_in\u001b[0m\u001b[1;33m,\u001b[0m \u001b[1;33m*\u001b[0m\u001b[0mpixel_out\u001b[0m\u001b[1;33m[\u001b[0m\u001b[1;33m:\u001b[0m\u001b[1;33m:\u001b[0m\u001b[1;33m-\u001b[0m\u001b[1;36m1\u001b[0m\u001b[1;33m]\u001b[0m\u001b[1;33m)\u001b[0m\u001b[1;33m[\u001b[0m\u001b[1;33m:\u001b[0m\u001b[1;33m:\u001b[0m\u001b[1;33m-\u001b[0m\u001b[1;36m1\u001b[0m\u001b[1;33m]\u001b[0m\u001b[1;33m\u001b[0m\u001b[1;33m\u001b[0m\u001b[0m\n\u001b[0m\u001b[0;32m     83\u001b[0m     \u001b[0mpixel_in\u001b[0m \u001b[1;33m=\u001b[0m \u001b[0mnp\u001b[0m\u001b[1;33m.\u001b[0m\u001b[0marray\u001b[0m\u001b[1;33m(\u001b[0m\u001b[0mpixel_in\u001b[0m\u001b[1;33m)\u001b[0m\u001b[1;33m\u001b[0m\u001b[1;33m\u001b[0m\u001b[0m\n\u001b[0;32m     84\u001b[0m \u001b[1;33m\u001b[0m\u001b[0m\n",
      "\u001b[1;32m~\\miniconda3\\envs\\pymuse\\lib\\site-packages\\reproject\\wcs_utils.py\u001b[0m in \u001b[0;36mefficient_pixel_to_pixel_with_roundtrip\u001b[1;34m(wcs1, wcs2, *inputs)\u001b[0m\n\u001b[0;32m    216\u001b[0m \u001b[1;32mdef\u001b[0m \u001b[0mefficient_pixel_to_pixel_with_roundtrip\u001b[0m\u001b[1;33m(\u001b[0m\u001b[0mwcs1\u001b[0m\u001b[1;33m,\u001b[0m \u001b[0mwcs2\u001b[0m\u001b[1;33m,\u001b[0m \u001b[1;33m*\u001b[0m\u001b[0minputs\u001b[0m\u001b[1;33m)\u001b[0m\u001b[1;33m:\u001b[0m\u001b[1;33m\u001b[0m\u001b[1;33m\u001b[0m\u001b[0m\n\u001b[0;32m    217\u001b[0m \u001b[1;33m\u001b[0m\u001b[0m\n\u001b[1;32m--> 218\u001b[1;33m     \u001b[0moutputs\u001b[0m \u001b[1;33m=\u001b[0m \u001b[0mefficient_pixel_to_pixel\u001b[0m\u001b[1;33m(\u001b[0m\u001b[0mwcs1\u001b[0m\u001b[1;33m,\u001b[0m \u001b[0mwcs2\u001b[0m\u001b[1;33m,\u001b[0m \u001b[1;33m*\u001b[0m\u001b[0minputs\u001b[0m\u001b[1;33m)\u001b[0m\u001b[1;33m\u001b[0m\u001b[1;33m\u001b[0m\u001b[0m\n\u001b[0m\u001b[0;32m    219\u001b[0m \u001b[1;33m\u001b[0m\u001b[0m\n\u001b[0;32m    220\u001b[0m     \u001b[1;31m# Now convert back to check that coordinates round-trip, if not then set to NaN\u001b[0m\u001b[1;33m\u001b[0m\u001b[1;33m\u001b[0m\u001b[1;33m\u001b[0m\u001b[0m\n",
      "\u001b[1;32m~\\miniconda3\\envs\\pymuse\\lib\\site-packages\\reproject\\wcs_utils.py\u001b[0m in \u001b[0;36mefficient_pixel_to_pixel\u001b[1;34m(wcs1, wcs2, *inputs)\u001b[0m\n\u001b[0;32m    192\u001b[0m         \u001b[1;32mif\u001b[0m \u001b[1;32mnot\u001b[0m \u001b[0misinstance\u001b[0m\u001b[1;33m(\u001b[0m\u001b[0mworld_outputs\u001b[0m\u001b[1;33m,\u001b[0m \u001b[1;33m(\u001b[0m\u001b[0mtuple\u001b[0m\u001b[1;33m,\u001b[0m \u001b[0mlist\u001b[0m\u001b[1;33m)\u001b[0m\u001b[1;33m)\u001b[0m\u001b[1;33m:\u001b[0m\u001b[1;33m\u001b[0m\u001b[1;33m\u001b[0m\u001b[0m\n\u001b[0;32m    193\u001b[0m             \u001b[0mworld_outputs\u001b[0m \u001b[1;33m=\u001b[0m \u001b[1;33m(\u001b[0m\u001b[0mworld_outputs\u001b[0m\u001b[1;33m,\u001b[0m\u001b[1;33m)\u001b[0m\u001b[1;33m\u001b[0m\u001b[1;33m\u001b[0m\u001b[0m\n\u001b[1;32m--> 194\u001b[1;33m         \u001b[0mpixel_outputs\u001b[0m \u001b[1;33m=\u001b[0m \u001b[0mwcs2\u001b[0m\u001b[1;33m.\u001b[0m\u001b[0mworld_to_pixel\u001b[0m\u001b[1;33m(\u001b[0m\u001b[1;33m*\u001b[0m\u001b[0mworld_outputs\u001b[0m\u001b[1;33m)\u001b[0m\u001b[1;33m\u001b[0m\u001b[1;33m\u001b[0m\u001b[0m\n\u001b[0m\u001b[0;32m    195\u001b[0m \u001b[1;33m\u001b[0m\u001b[0m\n\u001b[0;32m    196\u001b[0m         \u001b[1;32mfor\u001b[0m \u001b[0mipix\u001b[0m \u001b[1;32min\u001b[0m \u001b[0mrange\u001b[0m\u001b[1;33m(\u001b[0m\u001b[0mwcs2\u001b[0m\u001b[1;33m.\u001b[0m\u001b[0mpixel_n_dim\u001b[0m\u001b[1;33m)\u001b[0m\u001b[1;33m:\u001b[0m\u001b[1;33m\u001b[0m\u001b[1;33m\u001b[0m\u001b[0m\n",
      "\u001b[1;32m~\\miniconda3\\envs\\pymuse\\lib\\site-packages\\astropy\\wcs\\wcsapi\\high_level_api.py\u001b[0m in \u001b[0;36mworld_to_pixel\u001b[1;34m(self, *world_objects)\u001b[0m\n\u001b[0;32m    230\u001b[0m \u001b[1;33m\u001b[0m\u001b[0m\n\u001b[0;32m    231\u001b[0m         \u001b[1;31m# Finally we convert to pixel coordinates\u001b[0m\u001b[1;33m\u001b[0m\u001b[1;33m\u001b[0m\u001b[1;33m\u001b[0m\u001b[0m\n\u001b[1;32m--> 232\u001b[1;33m         \u001b[0mpixel\u001b[0m \u001b[1;33m=\u001b[0m \u001b[0mself\u001b[0m\u001b[1;33m.\u001b[0m\u001b[0mlow_level_wcs\u001b[0m\u001b[1;33m.\u001b[0m\u001b[0mworld_to_pixel_values\u001b[0m\u001b[1;33m(\u001b[0m\u001b[1;33m*\u001b[0m\u001b[0mworld\u001b[0m\u001b[1;33m)\u001b[0m\u001b[1;33m\u001b[0m\u001b[1;33m\u001b[0m\u001b[0m\n\u001b[0m\u001b[0;32m    233\u001b[0m \u001b[1;33m\u001b[0m\u001b[0m\n\u001b[0;32m    234\u001b[0m         \u001b[1;32mreturn\u001b[0m \u001b[0mpixel\u001b[0m\u001b[1;33m\u001b[0m\u001b[1;33m\u001b[0m\u001b[0m\n",
      "\u001b[1;32m~\\miniconda3\\envs\\pymuse\\lib\\site-packages\\astropy\\wcs\\wcsapi\\fitswcs.py\u001b[0m in \u001b[0;36mworld_to_pixel_values\u001b[1;34m(self, *world_arrays)\u001b[0m\n\u001b[0;32m    315\u001b[0m \u001b[1;33m\u001b[0m\u001b[0m\n\u001b[0;32m    316\u001b[0m     \u001b[1;32mdef\u001b[0m \u001b[0mworld_to_pixel_values\u001b[0m\u001b[1;33m(\u001b[0m\u001b[0mself\u001b[0m\u001b[1;33m,\u001b[0m \u001b[1;33m*\u001b[0m\u001b[0mworld_arrays\u001b[0m\u001b[1;33m)\u001b[0m\u001b[1;33m:\u001b[0m\u001b[1;33m\u001b[0m\u001b[1;33m\u001b[0m\u001b[0m\n\u001b[1;32m--> 317\u001b[1;33m         \u001b[0mpixel\u001b[0m \u001b[1;33m=\u001b[0m \u001b[0mself\u001b[0m\u001b[1;33m.\u001b[0m\u001b[0mall_world2pix\u001b[0m\u001b[1;33m(\u001b[0m\u001b[1;33m*\u001b[0m\u001b[0mworld_arrays\u001b[0m\u001b[1;33m,\u001b[0m \u001b[1;36m0\u001b[0m\u001b[1;33m)\u001b[0m\u001b[1;33m\u001b[0m\u001b[1;33m\u001b[0m\u001b[0m\n\u001b[0m\u001b[0;32m    318\u001b[0m         \u001b[1;32mreturn\u001b[0m \u001b[0mpixel\u001b[0m\u001b[1;33m[\u001b[0m\u001b[1;36m0\u001b[0m\u001b[1;33m]\u001b[0m \u001b[1;32mif\u001b[0m \u001b[0mself\u001b[0m\u001b[1;33m.\u001b[0m\u001b[0mpixel_n_dim\u001b[0m \u001b[1;33m==\u001b[0m \u001b[1;36m1\u001b[0m \u001b[1;32melse\u001b[0m \u001b[0mtuple\u001b[0m\u001b[1;33m(\u001b[0m\u001b[0mpixel\u001b[0m\u001b[1;33m)\u001b[0m\u001b[1;33m\u001b[0m\u001b[1;33m\u001b[0m\u001b[0m\n\u001b[0;32m    319\u001b[0m \u001b[1;33m\u001b[0m\u001b[0m\n",
      "\u001b[1;32m~\\miniconda3\\envs\\pymuse\\lib\\site-packages\\astropy\\wcs\\wcs.py\u001b[0m in \u001b[0;36mall_world2pix\u001b[1;34m(self, tolerance, maxiter, adaptive, detect_divergence, quiet, *args, **kwargs)\u001b[0m\n\u001b[0;32m   1890\u001b[0m                 \u001b[0madaptive\u001b[0m\u001b[1;33m=\u001b[0m\u001b[0madaptive\u001b[0m\u001b[1;33m,\u001b[0m \u001b[0mdetect_divergence\u001b[0m\u001b[1;33m=\u001b[0m\u001b[0mdetect_divergence\u001b[0m\u001b[1;33m,\u001b[0m\u001b[1;33m\u001b[0m\u001b[1;33m\u001b[0m\u001b[0m\n\u001b[0;32m   1891\u001b[0m                 quiet=quiet),\n\u001b[1;32m-> 1892\u001b[1;33m             \u001b[1;34m'input'\u001b[0m\u001b[1;33m,\u001b[0m \u001b[1;33m*\u001b[0m\u001b[0margs\u001b[0m\u001b[1;33m,\u001b[0m \u001b[1;33m**\u001b[0m\u001b[0mkwargs\u001b[0m\u001b[1;33m\u001b[0m\u001b[1;33m\u001b[0m\u001b[0m\n\u001b[0m\u001b[0;32m   1893\u001b[0m         )\n\u001b[0;32m   1894\u001b[0m \u001b[1;33m\u001b[0m\u001b[0m\n",
      "\u001b[1;32m~\\miniconda3\\envs\\pymuse\\lib\\site-packages\\astropy\\wcs\\wcs.py\u001b[0m in \u001b[0;36m_array_converter\u001b[1;34m(self, func, sky, ra_dec_order, *args)\u001b[0m\n\u001b[0;32m   1334\u001b[0m                     \"a 1-D array for each axis, followed by an origin.\")\n\u001b[0;32m   1335\u001b[0m \u001b[1;33m\u001b[0m\u001b[0m\n\u001b[1;32m-> 1336\u001b[1;33m             \u001b[1;32mreturn\u001b[0m \u001b[0m_return_list_of_arrays\u001b[0m\u001b[1;33m(\u001b[0m\u001b[0maxes\u001b[0m\u001b[1;33m,\u001b[0m \u001b[0morigin\u001b[0m\u001b[1;33m)\u001b[0m\u001b[1;33m\u001b[0m\u001b[1;33m\u001b[0m\u001b[0m\n\u001b[0m\u001b[0;32m   1337\u001b[0m \u001b[1;33m\u001b[0m\u001b[0m\n\u001b[0;32m   1338\u001b[0m         raise TypeError(\n",
      "\u001b[1;32m~\\miniconda3\\envs\\pymuse\\lib\\site-packages\\astropy\\wcs\\wcs.py\u001b[0m in \u001b[0;36m_return_list_of_arrays\u001b[1;34m(axes, origin)\u001b[0m\n\u001b[0;32m   1288\u001b[0m             \u001b[1;32mif\u001b[0m \u001b[0mra_dec_order\u001b[0m \u001b[1;32mand\u001b[0m \u001b[0msky\u001b[0m \u001b[1;33m==\u001b[0m \u001b[1;34m'input'\u001b[0m\u001b[1;33m:\u001b[0m\u001b[1;33m\u001b[0m\u001b[1;33m\u001b[0m\u001b[0m\n\u001b[0;32m   1289\u001b[0m                 \u001b[0mxy\u001b[0m \u001b[1;33m=\u001b[0m \u001b[0mself\u001b[0m\u001b[1;33m.\u001b[0m\u001b[0m_denormalize_sky\u001b[0m\u001b[1;33m(\u001b[0m\u001b[0mxy\u001b[0m\u001b[1;33m)\u001b[0m\u001b[1;33m\u001b[0m\u001b[1;33m\u001b[0m\u001b[0m\n\u001b[1;32m-> 1290\u001b[1;33m             \u001b[0moutput\u001b[0m \u001b[1;33m=\u001b[0m \u001b[0mfunc\u001b[0m\u001b[1;33m(\u001b[0m\u001b[0mxy\u001b[0m\u001b[1;33m,\u001b[0m \u001b[0morigin\u001b[0m\u001b[1;33m)\u001b[0m\u001b[1;33m\u001b[0m\u001b[1;33m\u001b[0m\u001b[0m\n\u001b[0m\u001b[0;32m   1291\u001b[0m             \u001b[1;32mif\u001b[0m \u001b[0mra_dec_order\u001b[0m \u001b[1;32mand\u001b[0m \u001b[0msky\u001b[0m \u001b[1;33m==\u001b[0m \u001b[1;34m'output'\u001b[0m\u001b[1;33m:\u001b[0m\u001b[1;33m\u001b[0m\u001b[1;33m\u001b[0m\u001b[0m\n\u001b[0;32m   1292\u001b[0m                 \u001b[0moutput\u001b[0m \u001b[1;33m=\u001b[0m \u001b[0mself\u001b[0m\u001b[1;33m.\u001b[0m\u001b[0m_normalize_sky\u001b[0m\u001b[1;33m(\u001b[0m\u001b[0moutput\u001b[0m\u001b[1;33m)\u001b[0m\u001b[1;33m\u001b[0m\u001b[1;33m\u001b[0m\u001b[0m\n",
      "\u001b[1;32m~\\miniconda3\\envs\\pymuse\\lib\\site-packages\\astropy\\wcs\\wcs.py\u001b[0m in \u001b[0;36m<lambda>\u001b[1;34m(*args, **kwargs)\u001b[0m\n\u001b[0;32m   1889\u001b[0m                 \u001b[1;33m*\u001b[0m\u001b[0margs\u001b[0m\u001b[1;33m,\u001b[0m \u001b[0mtolerance\u001b[0m\u001b[1;33m=\u001b[0m\u001b[0mtolerance\u001b[0m\u001b[1;33m,\u001b[0m \u001b[0mmaxiter\u001b[0m\u001b[1;33m=\u001b[0m\u001b[0mmaxiter\u001b[0m\u001b[1;33m,\u001b[0m\u001b[1;33m\u001b[0m\u001b[1;33m\u001b[0m\u001b[0m\n\u001b[0;32m   1890\u001b[0m                 \u001b[0madaptive\u001b[0m\u001b[1;33m=\u001b[0m\u001b[0madaptive\u001b[0m\u001b[1;33m,\u001b[0m \u001b[0mdetect_divergence\u001b[0m\u001b[1;33m=\u001b[0m\u001b[0mdetect_divergence\u001b[0m\u001b[1;33m,\u001b[0m\u001b[1;33m\u001b[0m\u001b[1;33m\u001b[0m\u001b[0m\n\u001b[1;32m-> 1891\u001b[1;33m                 quiet=quiet),\n\u001b[0m\u001b[0;32m   1892\u001b[0m             \u001b[1;34m'input'\u001b[0m\u001b[1;33m,\u001b[0m \u001b[1;33m*\u001b[0m\u001b[0margs\u001b[0m\u001b[1;33m,\u001b[0m \u001b[1;33m**\u001b[0m\u001b[0mkwargs\u001b[0m\u001b[1;33m\u001b[0m\u001b[1;33m\u001b[0m\u001b[0m\n\u001b[0;32m   1893\u001b[0m         )\n",
      "\u001b[1;32m~\\miniconda3\\envs\\pymuse\\lib\\site-packages\\astropy\\wcs\\wcs.py\u001b[0m in \u001b[0;36m_all_world2pix\u001b[1;34m(self, world, origin, tolerance, maxiter, adaptive, detect_divergence, quiet)\u001b[0m\n\u001b[0;32m   1692\u001b[0m \u001b[1;33m\u001b[0m\u001b[0m\n\u001b[0;32m   1693\u001b[0m         \u001b[1;31m# initial approximation (linear WCS based only)\u001b[0m\u001b[1;33m\u001b[0m\u001b[1;33m\u001b[0m\u001b[1;33m\u001b[0m\u001b[0m\n\u001b[1;32m-> 1694\u001b[1;33m         \u001b[0mpix0\u001b[0m \u001b[1;33m=\u001b[0m \u001b[0mself\u001b[0m\u001b[1;33m.\u001b[0m\u001b[0mwcs_world2pix\u001b[0m\u001b[1;33m(\u001b[0m\u001b[0mworld\u001b[0m\u001b[1;33m,\u001b[0m \u001b[0morigin\u001b[0m\u001b[1;33m)\u001b[0m\u001b[1;33m\u001b[0m\u001b[1;33m\u001b[0m\u001b[0m\n\u001b[0m\u001b[0;32m   1695\u001b[0m \u001b[1;33m\u001b[0m\u001b[0m\n\u001b[0;32m   1696\u001b[0m         \u001b[1;31m# Check that an iterative solution is required at all\u001b[0m\u001b[1;33m\u001b[0m\u001b[1;33m\u001b[0m\u001b[1;33m\u001b[0m\u001b[0m\n",
      "\u001b[1;32m~\\miniconda3\\envs\\pymuse\\lib\\site-packages\\astropy\\wcs\\wcs.py\u001b[0m in \u001b[0;36mwcs_world2pix\u001b[1;34m(self, *args, **kwargs)\u001b[0m\n\u001b[0;32m   2224\u001b[0m         return self._array_converter(\n\u001b[0;32m   2225\u001b[0m             \u001b[1;32mlambda\u001b[0m \u001b[0mxy\u001b[0m\u001b[1;33m,\u001b[0m \u001b[0mo\u001b[0m\u001b[1;33m:\u001b[0m \u001b[0mself\u001b[0m\u001b[1;33m.\u001b[0m\u001b[0mwcs\u001b[0m\u001b[1;33m.\u001b[0m\u001b[0ms2p\u001b[0m\u001b[1;33m(\u001b[0m\u001b[0mxy\u001b[0m\u001b[1;33m,\u001b[0m \u001b[0mo\u001b[0m\u001b[1;33m)\u001b[0m\u001b[1;33m[\u001b[0m\u001b[1;34m'pixcrd'\u001b[0m\u001b[1;33m]\u001b[0m\u001b[1;33m,\u001b[0m\u001b[1;33m\u001b[0m\u001b[1;33m\u001b[0m\u001b[0m\n\u001b[1;32m-> 2226\u001b[1;33m             'input', *args, **kwargs)\n\u001b[0m\u001b[0;32m   2227\u001b[0m     wcs_world2pix.__doc__ = \"\"\"\n\u001b[0;32m   2228\u001b[0m         \u001b[0mTransforms\u001b[0m \u001b[0mworld\u001b[0m \u001b[0mcoordinates\u001b[0m \u001b[0mto\u001b[0m \u001b[0mpixel\u001b[0m \u001b[0mcoordinates\u001b[0m\u001b[1;33m,\u001b[0m \u001b[0musing\u001b[0m \u001b[0monly\u001b[0m\u001b[1;33m\u001b[0m\u001b[1;33m\u001b[0m\u001b[0m\n",
      "\u001b[1;32m~\\miniconda3\\envs\\pymuse\\lib\\site-packages\\astropy\\wcs\\wcs.py\u001b[0m in \u001b[0;36m_array_converter\u001b[1;34m(self, func, sky, ra_dec_order, *args)\u001b[0m\n\u001b[0;32m   1321\u001b[0m             \u001b[1;32mif\u001b[0m \u001b[0mxy\u001b[0m\u001b[1;33m.\u001b[0m\u001b[0mshape\u001b[0m \u001b[1;33m==\u001b[0m \u001b[1;33m(\u001b[0m\u001b[1;33m)\u001b[0m \u001b[1;32mor\u001b[0m \u001b[0mlen\u001b[0m\u001b[1;33m(\u001b[0m\u001b[0mxy\u001b[0m\u001b[1;33m.\u001b[0m\u001b[0mshape\u001b[0m\u001b[1;33m)\u001b[0m \u001b[1;33m==\u001b[0m \u001b[1;36m1\u001b[0m\u001b[1;33m:\u001b[0m\u001b[1;33m\u001b[0m\u001b[1;33m\u001b[0m\u001b[0m\n\u001b[0;32m   1322\u001b[0m                 \u001b[1;32mreturn\u001b[0m \u001b[0m_return_list_of_arrays\u001b[0m\u001b[1;33m(\u001b[0m\u001b[1;33m[\u001b[0m\u001b[0mxy\u001b[0m\u001b[1;33m]\u001b[0m\u001b[1;33m,\u001b[0m \u001b[0morigin\u001b[0m\u001b[1;33m)\u001b[0m\u001b[1;33m\u001b[0m\u001b[1;33m\u001b[0m\u001b[0m\n\u001b[1;32m-> 1323\u001b[1;33m             \u001b[1;32mreturn\u001b[0m \u001b[0m_return_single_array\u001b[0m\u001b[1;33m(\u001b[0m\u001b[0mxy\u001b[0m\u001b[1;33m,\u001b[0m \u001b[0morigin\u001b[0m\u001b[1;33m)\u001b[0m\u001b[1;33m\u001b[0m\u001b[1;33m\u001b[0m\u001b[0m\n\u001b[0m\u001b[0;32m   1324\u001b[0m \u001b[1;33m\u001b[0m\u001b[0m\n\u001b[0;32m   1325\u001b[0m         \u001b[1;32melif\u001b[0m \u001b[0mlen\u001b[0m\u001b[1;33m(\u001b[0m\u001b[0margs\u001b[0m\u001b[1;33m)\u001b[0m \u001b[1;33m==\u001b[0m \u001b[0mself\u001b[0m\u001b[1;33m.\u001b[0m\u001b[0mnaxis\u001b[0m \u001b[1;33m+\u001b[0m \u001b[1;36m1\u001b[0m\u001b[1;33m:\u001b[0m\u001b[1;33m\u001b[0m\u001b[1;33m\u001b[0m\u001b[0m\n",
      "\u001b[1;32m~\\miniconda3\\envs\\pymuse\\lib\\site-packages\\astropy\\wcs\\wcs.py\u001b[0m in \u001b[0;36m_return_single_array\u001b[1;34m(xy, origin)\u001b[0m\n\u001b[0;32m   1305\u001b[0m             \u001b[1;32mif\u001b[0m \u001b[0mra_dec_order\u001b[0m \u001b[1;32mand\u001b[0m \u001b[0msky\u001b[0m \u001b[1;33m==\u001b[0m \u001b[1;34m'input'\u001b[0m\u001b[1;33m:\u001b[0m\u001b[1;33m\u001b[0m\u001b[1;33m\u001b[0m\u001b[0m\n\u001b[0;32m   1306\u001b[0m                 \u001b[0mxy\u001b[0m \u001b[1;33m=\u001b[0m \u001b[0mself\u001b[0m\u001b[1;33m.\u001b[0m\u001b[0m_denormalize_sky\u001b[0m\u001b[1;33m(\u001b[0m\u001b[0mxy\u001b[0m\u001b[1;33m)\u001b[0m\u001b[1;33m\u001b[0m\u001b[1;33m\u001b[0m\u001b[0m\n\u001b[1;32m-> 1307\u001b[1;33m             \u001b[0mresult\u001b[0m \u001b[1;33m=\u001b[0m \u001b[0mfunc\u001b[0m\u001b[1;33m(\u001b[0m\u001b[0mxy\u001b[0m\u001b[1;33m,\u001b[0m \u001b[0morigin\u001b[0m\u001b[1;33m)\u001b[0m\u001b[1;33m\u001b[0m\u001b[1;33m\u001b[0m\u001b[0m\n\u001b[0m\u001b[0;32m   1308\u001b[0m             \u001b[1;32mif\u001b[0m \u001b[0mra_dec_order\u001b[0m \u001b[1;32mand\u001b[0m \u001b[0msky\u001b[0m \u001b[1;33m==\u001b[0m \u001b[1;34m'output'\u001b[0m\u001b[1;33m:\u001b[0m\u001b[1;33m\u001b[0m\u001b[1;33m\u001b[0m\u001b[0m\n\u001b[0;32m   1309\u001b[0m                 \u001b[0mresult\u001b[0m \u001b[1;33m=\u001b[0m \u001b[0mself\u001b[0m\u001b[1;33m.\u001b[0m\u001b[0m_normalize_sky\u001b[0m\u001b[1;33m(\u001b[0m\u001b[0mresult\u001b[0m\u001b[1;33m)\u001b[0m\u001b[1;33m\u001b[0m\u001b[1;33m\u001b[0m\u001b[0m\n",
      "\u001b[1;32m~\\miniconda3\\envs\\pymuse\\lib\\site-packages\\astropy\\wcs\\wcs.py\u001b[0m in \u001b[0;36m<lambda>\u001b[1;34m(xy, o)\u001b[0m\n\u001b[0;32m   2223\u001b[0m             \u001b[1;32mraise\u001b[0m \u001b[0mValueError\u001b[0m\u001b[1;33m(\u001b[0m\u001b[1;34m\"No basic WCS settings were created.\"\u001b[0m\u001b[1;33m)\u001b[0m\u001b[1;33m\u001b[0m\u001b[1;33m\u001b[0m\u001b[0m\n\u001b[0;32m   2224\u001b[0m         return self._array_converter(\n\u001b[1;32m-> 2225\u001b[1;33m             \u001b[1;32mlambda\u001b[0m \u001b[0mxy\u001b[0m\u001b[1;33m,\u001b[0m \u001b[0mo\u001b[0m\u001b[1;33m:\u001b[0m \u001b[0mself\u001b[0m\u001b[1;33m.\u001b[0m\u001b[0mwcs\u001b[0m\u001b[1;33m.\u001b[0m\u001b[0ms2p\u001b[0m\u001b[1;33m(\u001b[0m\u001b[0mxy\u001b[0m\u001b[1;33m,\u001b[0m \u001b[0mo\u001b[0m\u001b[1;33m)\u001b[0m\u001b[1;33m[\u001b[0m\u001b[1;34m'pixcrd'\u001b[0m\u001b[1;33m]\u001b[0m\u001b[1;33m,\u001b[0m\u001b[1;33m\u001b[0m\u001b[1;33m\u001b[0m\u001b[0m\n\u001b[0m\u001b[0;32m   2226\u001b[0m             'input', *args, **kwargs)\n\u001b[0;32m   2227\u001b[0m     wcs_world2pix.__doc__ = \"\"\"\n",
      "\u001b[1;31mMemoryError\u001b[0m: Unable to allocate 2.92 GiB for an array with shape (196000000, 2) and data type float64"
     ]
    }
   ],
   "source": [
    "nebulae_hst, _  = reproject_interp(nebulae_mask,\n",
    "                                output_projection=associations_mask.wcs,\n",
    "                                shape_out=associations_mask.data.shape,\n",
    "                                order='nearest-neighbor')    \n",
    "\n",
    "# we scale the associations such that the the id is in the decimal\n",
    "scale = 10**np.ceil(np.log10(max(associations_mask.data[~np.isnan(associations_mask.data)])))\n",
    "s_arr = associations_mask.data/scale+nebulae_hst\n",
    "\n",
    "print(f'masks reprojected')\n",
    "\n",
    "# ids of associations, nebulae and combination (sum) of both\n",
    "a_id = np.unique(associations_mask.data[~np.isnan(associations_mask.data)]).astype(int)\n",
    "n_id = np.unique(nebulae_mask.data[~np.isnan(nebulae_mask.data)]).astype(int)\n",
    "s_id = np.unique(s_arr[~np.isnan(s_arr)])\n",
    "\n",
    "# this splits the sum into two parts (nebulae and associations)\n",
    "a_modf,n_modf = np.modf(s_id)\n",
    "n_modf = n_modf.astype(int)\n",
    "a_modf = np.round(a_modf*scale).astype(int)\n",
    "\n",
    "unique_a, count_a = np.unique(a_modf,return_counts=True)\n",
    "unique_n, count_n = np.unique(n_modf,return_counts=True)\n",
    "\n",
    "nebulae_dict = {int(n) : a_modf[n_modf==n].tolist() for n in n_id}     \n",
    "associations_dict = {int(a) : n_modf[a_modf==a].tolist() for a in a_id}     \n",
    "\n",
    "\n",
    "# so far we ensured that the nebulae in unique_n have only one association,\n",
    "# but it is possible that this association goes beyond the nebulae and into\n",
    "# a second nebulae. Those objects are excluded here\n",
    "isolated_nebulae = set()\n",
    "isolated_assoc   = set()\n",
    "for n,v in nebulae_dict.items():\n",
    "    if len(v)==1:\n",
    "        if len(associations_dict[v[0]])==1:\n",
    "            isolated_nebulae.add(n)\n",
    "            isolated_assoc.add(v[0])\n",
    "\n",
    "print(f'n_associations = {len(associations_dict)}')\n",
    "print(f'n_nebulae      = {len(nebulae_dict)}')\n",
    "print(f'1to1 match     = {len(isolated_nebulae)}')\n",
    "\n",
    "\n",
    "# we save those two dicts so we do not have to redo this everytime\n",
    "with open(basedir/'data'/'map_nebulae_association'/version/f'{name}_{HSTband}_{scalepc}pc_nebulae.yml','w+') as f:\n",
    "    yaml.dump(nebulae_dict,f)\n",
    "with open(basedir/'data'/'map_nebulae_association'/version/f'{name}_{HSTband}_{scalepc}pc_associations.yml','w+') as f:\n",
    "    yaml.dump(associations_dict,f)"
   ]
  },
  {
   "cell_type": "code",
   "execution_count": 4,
   "metadata": {},
   "outputs": [
    {
     "name": "stdout",
     "output_type": "stream",
     "text": [
      "contained: 211\n",
      "partial: 631\n",
      "isolated: 621\n",
      "write to file\n"
     ]
    }
   ],
   "source": [
    "# find all assoc that have at least one pixel outside of the nebulae masks\n",
    "mask = associations_mask.data.copy()\n",
    "mask[~np.isnan(nebulae_hst)] = np.nan\n",
    "outside = np.unique(mask[~np.isnan(mask)].astype(int))\n",
    "\n",
    "# find all assoc that have at least one pixel inside of the nebulea masks\n",
    "mask = associations_mask.data.copy()\n",
    "mask[np.isnan(nebulae_hst)] = np.nan\n",
    "inside = np.unique(mask[~np.isnan(mask)].astype(int))\n",
    "\n",
    "contained = np.setdiff1d(inside,outside)\n",
    "partial   = np.intersect1d(inside,outside)\n",
    "isolated  = np.setdiff1d(outside,inside)\n",
    "\n",
    "print(f'contained: {len(contained)}\\npartial: {len(partial)}\\nisolated: {len(isolated)}')\n",
    "\n",
    "assoc_tmp = associations[['assoc_ID']].copy()\n",
    "assoc_tmp.add_index('assoc_ID')\n",
    "\n",
    "#x_asc,y_asc = associations['SkyCoord'].to_pixel(env_masks_neb.wcs)\n",
    "#outside = (x_asc > env_masks_neb.data.shape[1]) | (y_asc > env_masks_neb.data.shape[0])\n",
    "#x_asc[outside] = 0\n",
    "#y_asc[outside] = 0\n",
    "#assoc_tmp['env_asc'] = [environment_dict[env_masks_neb.data[y,x]] for \n",
    "#                        x,y in zip(x_asc.astype(int),y_asc.astype(int))]\n",
    "#assoc_tmp[outside]['env_asc'] = ''\n",
    "\n",
    "assoc_tmp['overlap'] = np.empty(len(associations),dtype='U9')\n",
    "assoc_tmp['overlap'][np.isin(assoc_tmp['assoc_ID'],contained)] = 'contained'\n",
    "assoc_tmp['overlap'][np.isin(assoc_tmp['assoc_ID'],partial)]   = 'partial'\n",
    "assoc_tmp['overlap'][np.isin(assoc_tmp['assoc_ID'],isolated)]  = 'isolated'\n",
    "assoc_tmp['1to1'] = False\n",
    "assoc_tmp['1to1'][np.isin(assoc_tmp['assoc_ID'],list(isolated_assoc))] = True\n",
    "assoc_tmp['Nnebulae'] = [len(associations_dict[k]) for k in assoc_tmp['assoc_ID']]\n",
    "\n",
    "assoc_tmp['region_ID'] = np.nan\n",
    "assoc_tmp['region_ID'][assoc_tmp['1to1']] = [associations_dict[k][0] for k in assoc_tmp[assoc_tmp['1to1']]['assoc_ID']]\n",
    "\n",
    "overlap = join(\n",
    "    Table(np.unique(associations_mask.data[~np.isnan(associations_mask.data)],return_counts=True),names=['assoc_ID','size']),\n",
    "    Table(np.unique(associations_mask.data[~np.isnan(nebulae_hst) & ~np.isnan(associations_mask.data)],return_counts=True),names=['assoc_ID','overlap_size']),\n",
    "    keys=['assoc_ID'],join_type='outer')\n",
    "overlap = overlap.filled(0)\n",
    "overlap['overlap_asc'] = overlap['overlap_size']/overlap['size']\n",
    "overlap['overlap_asc'].info.format = '%.2f'\n",
    "assoc_tmp = join(assoc_tmp,overlap[['assoc_ID','overlap_asc']],keys='assoc_ID')\n",
    "\n",
    "print('write to file')\n",
    "hdu = fits.BinTableHDU(assoc_tmp,name='joined catalogue')\n",
    "hdu.writeto(basedir/'data'/'map_nebulae_association'/version/f'{name}_{HSTband}_{scalepc}pc_associations.fits',overwrite=True)\n"
   ]
  },
  {
   "cell_type": "code",
   "execution_count": 5,
   "metadata": {},
   "outputs": [
    {
     "name": "stderr",
     "output_type": "stream",
     "text": [
      "100%|████████████████████████████████████████████████████████████████████████████| 2869/2869 [00:02<00:00, 1056.80it/s]\n"
     ]
    },
    {
     "name": "stdout",
     "output_type": "stream",
     "text": [
      "1934 nebulae have no neighbors\n"
     ]
    }
   ],
   "source": [
    "from cluster.regions import find_neighbors\n",
    "from tqdm import tqdm \n",
    "\n",
    "nebulae_tmp = nebulae[['region_ID','x','y']].copy()\n",
    "nebulae_tmp.add_index('region_ID')\n",
    "\n",
    "#nebulae_tmp['env_neb'] = [environment_dict[env_masks_neb.data[y,x]] for \n",
    "#                          x,y in zip(nebulae_tmp['x'].astype(int),nebulae_tmp['y'].astype(int))]\n",
    "\n",
    "nebulae_tmp['neighbors'] = np.nan\n",
    "for row in tqdm(nebulae_tmp):\n",
    "    row['neighbors'] = len(find_neighbors(nebulae_mask.data,tuple(row[['x','y']]),row['region_ID'],plot=False))\n",
    "del nebulae_tmp[['x','y']]\n",
    "\n",
    "nebulae_tmp['1to1'] = False\n",
    "nebulae_tmp['1to1'][np.isin(nebulae_tmp['region_ID'],list(isolated_nebulae))] = True\n",
    "nebulae_tmp['Nassoc'] = [len(nebulae_dict[k]) for k in nebulae_tmp['region_ID']]\n",
    "nebulae_tmp['assoc_ID'] = np.nan\n",
    "nebulae_tmp['assoc_ID'][nebulae_tmp['1to1']] = [nebulae_dict[k][0] for k in nebulae_tmp[nebulae_tmp['1to1']]['region_ID']]\n",
    "\n",
    "\n",
    "overlap = join(\n",
    "    Table(np.unique(nebulae_hst[~np.isnan(nebulae_hst)],return_counts=True),names=['region_ID','size']),\n",
    "    Table(np.unique(nebulae_hst[~np.isnan(nebulae_hst) & ~np.isnan(associations_mask.data)],return_counts=True),names=['region_ID','overlap_size']),\n",
    "    keys=['region_ID'],join_type='outer')\n",
    "overlap = overlap.filled(0)\n",
    "overlap['overlap_neb'] = overlap['overlap_size']/overlap['size']\n",
    "overlap['overlap_neb'].info.format = '%.2f'\n",
    "nebulae_tmp = join(nebulae_tmp,overlap[['region_ID','overlap_neb']],keys='region_ID')\n",
    "\n",
    "hdu = fits.BinTableHDU(nebulae_tmp,name='joined catalogue')\n",
    "hdu.writeto(basedir/'data'/'map_nebulae_association'/version/f'{name}_{scalepc}pc_nebulae.fits',overwrite=True)\n",
    "#del nebulae_tmp['1to1']\n",
    "\n",
    "print(f'{np.sum(nebulae_tmp[\"neighbors\"]==0)} nebulae have no neighbors')"
   ]
  },
  {
   "cell_type": "code",
   "execution_count": 8,
   "metadata": {},
   "outputs": [
    {
     "name": "stdout",
     "output_type": "stream",
     "text": [
      "426 objects in catalogue\n",
      "the mean separation between cluster and association center is 0.61 arcsec\n"
     ]
    }
   ],
   "source": [
    "\n",
    "\n",
    "catalogue = join(assoc_tmp,nebulae_tmp,keys=['assoc_ID','region_ID'])\n",
    "catalogue = join(catalogue,nebulae,keys='region_ID')\n",
    "catalogue = join(catalogue,associations,keys='assoc_ID')\n",
    "\n",
    "# pay attention to the order of assoc, neb\n",
    "catalogue.rename_columns(['X','Y','x','y','RA','DEC','cen_ra','cen_dec',\n",
    "                          'reg_area','region_area',\n",
    "                          'EBV_1','EBV_2','EBV_err','EBV_ERR',\n",
    "                          'SkyCoord_1','SkyCoord_2'],\n",
    "                         ['x_asc','y_asc','x_neb','y_neb','ra_asc','dec_asc','ra_neb','dec_neb',\n",
    "                          'area_asc','area_neb',\n",
    "                          'EBV_balmer','EBV_stars','EBV_balmer_err','EBV_stars_err',\n",
    "                          'SkyCoord_asc','SkyCoord_neb'])\n",
    "\n",
    "# separation to other associations and nebulae\n",
    "idx,sep_asc,_= match_coordinates_sky(catalogue['SkyCoord_asc'],associations['SkyCoord'],nthneighbor=2)\n",
    "idx,sep_neb,_= match_coordinates_sky(catalogue['SkyCoord_neb'],nebulae['SkyCoord'],nthneighbor=2)\n",
    "catalogue['sep_asc'] = sep_asc.to(u.arcsec)\n",
    "catalogue['sep_neb'] = sep_neb.to(u.arcsec)\n",
    "\n",
    "# select the columns of the joined catalogue\n",
    "columns = ['assoc_ID','region_ID','x_asc','y_asc','x_neb','y_neb',\n",
    "           'ra_asc','dec_asc','ra_neb','dec_neb','SkyCoord_asc','SkyCoord_neb',\n",
    "           'area_asc','area_neb',\n",
    "           'sep_asc','sep_neb','neighbors','Nassoc','overlap','overlap_asc','overlap_neb',\n",
    "           'age','age_err','mass','mass_err','EBV_stars','EBV_stars_err','EBV_balmer','EBV_balmer_err',\n",
    "           'met_scal','met_scal_err','logq_D91','logq_D91_err',] + \\\n",
    "            [x for x in nebulae.columns if x.endswith('_FLUX_CORR')] + \\\n",
    "            [x for x in nebulae.columns if x.endswith('_FLUX_CORR_ERR')] + \\\n",
    "            ['NUV_FLUX','NUV_FLUX_ERR','U_FLUX','U_FLUX_ERR','B_FLUX','B_FLUX_ERR',\n",
    "             'V_FLUX','V_FLUX_ERR','I_FLUX','I_FLUX_ERR'] + \\\n",
    "            ['HA/FUV','eq_width']\n",
    "catalogue = catalogue[columns]\n",
    "        \n",
    "catalogue.rename_columns([col for col in catalogue.columns if col.endswith('FLUX_CORR')],\n",
    "                      [col.replace('FLUX_CORR','flux') for col in catalogue.columns if col.endswith('FLUX_CORR')])\n",
    "catalogue.rename_columns([col for col in catalogue.columns if col.endswith('FLUX_CORR_ERR')],\n",
    "                      [col.replace('FLUX_CORR_ERR','flux_err') for col in catalogue.columns if col.endswith('FLUX_CORR_ERR')])\n",
    "catalogue['assoc_ID'] = catalogue['assoc_ID'].astype('int')\n",
    "catalogue['region_ID'] = catalogue['region_ID'].astype('int')\n",
    "\n",
    "catalogue.info.description = 'Joined catalogue between associations and nebulae'\n",
    "mean_sep = np.mean(catalogue['SkyCoord_asc'].separation(catalogue['SkyCoord_neb']))\n",
    "print(f'{len(catalogue)} objects in catalogue')\n",
    "print(f'the mean separation between cluster and association center is {mean_sep.to(u.arcsecond):.2f}')"
   ]
  },
  {
   "cell_type": "code",
   "execution_count": 105,
   "metadata": {},
   "outputs": [],
   "source": [
    "export = catalogue.copy() #[catalogue['contained']]\n",
    "#export.add_column(export['SkyCoord_asc'].to_string(style='hmsdms',precision=2),index=6,name='RaDec_asc')\n",
    "#export.add_column(export['SkyCoord_neb'].to_string(style='hmsdms',precision=2),index=8,name='RaDec_neb')\n",
    "\n",
    "RA_asc ,DEC_asc = zip(*[x.split(' ') for x in export['SkyCoord_asc'].to_string(style='hmsdms',precision=2)])\n",
    "RA_neb ,DEC_neb = zip(*[x.split(' ') for x in export['SkyCoord_neb'].to_string(style='hmsdms',precision=2)])\n",
    "\n",
    "export.add_column(RA_asc,index=6,name='Ra_asc')\n",
    "export.add_column(DEC_asc,index=8,name='Dec_asc')\n",
    "export.add_column(RA_neb,index=10,name='Ra_neb')\n",
    "export.add_column(DEC_neb,index=12,name='Dec_neb')\n",
    "\n",
    "for col in export.columns:\n",
    "    if col not in ['Ra_asc','Dec_asc','Ra_neb','Dec_neb','region_ID','cluster_ID','overlap']:\n",
    "        export[col].info.format = '%.2f'\n",
    "\n",
    "del export[['ra_asc','dec_asc','ra_neb','dec_neb','SkyCoord_neb','SkyCoord_asc','HA/FUV']]\n",
    "\n",
    "hdu = fits.BinTableHDU(export,name='joined catalogue')\n",
    "hdu.writeto(basedir/'data'/'map_nebulae_association'/version/f'{name}_{HSTband}_{scalepc}pc_associations_and_nebulae_joined.fits',overwrite=True)"
   ]
  },
  {
   "cell_type": "code",
   "execution_count": null,
   "metadata": {},
   "outputs": [],
   "source": []
  },
  {
   "cell_type": "markdown",
   "metadata": {},
   "source": [
    "## others\n",
    "\n",
    "\n",
    "measure Halpha in association masks"
   ]
  },
  {
   "cell_type": "code",
   "execution_count": 4,
   "metadata": {},
   "outputs": [],
   "source": [
    "import pyneb\n",
    "gal_name = 'NGC0628'\n",
    "\n",
    "EBV_MW = {'IC5332': 0.015,'NGC0628': 0.062,'NGC1087': 0.03,'NGC1300': 0.026,\n",
    "          'NGC1365': 0.018,'NGC1385': 0.018,'NGC1433': 0.008,'NGC1512': 0.009,\n",
    "          'NGC1566': 0.008,'NGC1672': 0.021,'NGC2835': 0.089,'NGC3351': 0.024,\n",
    "          'NGC3627': 0.037,'NGC4254': 0.035,'NGC4303': 0.02,'NGC4321': 0.023,\n",
    "          'NGC4535': 0.017,'NGC5068': 0.091,'NGC7496': 0.008}\n",
    "rc_MW = pyneb.RedCorr(E_BV = EBV_MW[gal_name], R_V = 3.1, law = 'CCM89 oD94')"
   ]
  },
  {
   "cell_type": "code",
   "execution_count": 9,
   "metadata": {},
   "outputs": [
    {
     "name": "stdout",
     "output_type": "stream",
     "text": [
      "reading MUSE data for NGC0628\n",
      "reading HST data for NGC0628\n"
     ]
    }
   ],
   "source": [
    "from pathlib import Path\n",
    "import sys\n",
    "from tqdm import tqdm\n",
    "\n",
    "import numpy as np\n",
    "import matplotlib.pyplot as plt\n",
    "\n",
    "from astropy.io import ascii, fits\n",
    "from astropy.table import Table \n",
    "from astropy.nddata import NDData, StdDevUncertainty\n",
    "from astropy.wcs import WCS\n",
    "import astropy.units as u \n",
    "from astropy.coordinates import SkyCoord\n",
    "\n",
    "import pyneb\n",
    "from reproject import reproject_exact, reproject_interp\n",
    "\n",
    "\n",
    "gal_name = 'NGC0628'\n",
    "version  = 'v1p2'\n",
    "HSTband  = 'nuv'\n",
    "scalepc  = 32\n",
    "\n",
    "# the folder with the data (structure similar to Google Drive)\n",
    "data_ext = Path('a:')/'Archive'\n",
    "\n",
    "EBV_MW = {'IC5332': 0.015,'NGC0628': 0.062,'NGC1087': 0.03,'NGC1300': 0.026,\n",
    "          'NGC1365': 0.018,'NGC1385': 0.018,'NGC1433': 0.008,'NGC1512': 0.009,\n",
    "          'NGC1566': 0.008,'NGC1672': 0.021,'NGC2835': 0.089,'NGC3351': 0.024,\n",
    "          'NGC3627': 0.037,'NGC4254': 0.035,'NGC4303': 0.02,'NGC4321': 0.023,\n",
    "          'NGC4535': 0.017,'NGC5068': 0.091,'NGC7496': 0.008}\n",
    "\n",
    "\n",
    "print(f'reading MUSE data for {gal_name}')\n",
    "filename = data_ext / 'MUSE'/'DR2.1'/'MUSEDAP'/f'{gal_name}_MAPS.fits'\n",
    "with fits.open(filename) as hdul:\n",
    "    Halpha = NDData(data=hdul['HA6562_FLUX'].data,\n",
    "                    uncertainty=StdDevUncertainty(hdul['HA6562_FLUX_ERR'].data),\n",
    "                    mask=np.isnan(hdul['HA6562_FLUX'].data),\n",
    "                    meta=hdul['HA6562_FLUX'].header,\n",
    "                    wcs=WCS(hdul['HA6562_FLUX'].header))\n",
    "    Hbeta = NDData(data=hdul['HB4861_FLUX'].data,\n",
    "                    uncertainty=StdDevUncertainty(hdul['HB4861_FLUX_ERR'].data),\n",
    "                    mask=np.isnan(hdul['HB4861_FLUX'].data),\n",
    "                    meta=hdul['HB4861_FLUX'].header,\n",
    "                    wcs=WCS(hdul['HB4861_FLUX'].header))\n",
    "\n",
    "\n",
    "print(f'reading HST data for {gal_name}')\n",
    "folder=data_ext/'Products'/'stellar_associations'/f'associations_{version}'/f'{gal_name.lower()}_{HSTband}'/f'{scalepc}pc'\n",
    "# first the association catalogue\n",
    "catalogue_file = folder / f'{gal_name.lower()}_phangshst_associations_{HSTband}_ws{scalepc}pc_{version}.fits'\n",
    "with fits.open(catalogue_file) as hdul:\n",
    "    associations = Table(hdul[1].data)\n",
    "\n",
    "# modify table (rename the columns such that the clusters and associations are identical)\n",
    "associations['SkyCoord'] = SkyCoord(associations['reg_ra']*u.degree,associations['reg_dec']*u.degree)\n",
    "associations.rename_column('reg_id','assoc_ID')\n",
    "\n",
    "mask_file = folder / f'{gal_name.lower()}_phangshst_associations_{HSTband}_ws{scalepc}pc_idmask_{version}.fits'\n",
    "with fits.open(mask_file) as hdul:\n",
    "    mask = hdul[0].data.astype(float)\n",
    "    mask[mask==0] = np.nan\n",
    "    associations_mask = NDData(mask,\n",
    "                            mask=mask==0,\n",
    "                            meta=hdul[0].header,\n",
    "                            wcs=WCS(hdul[0].header))\n"
   ]
  },
  {
   "cell_type": "code",
   "execution_count": 23,
   "metadata": {},
   "outputs": [],
   "source": [
    "from skimage.measure import find_contours\n",
    "from regions import PixCoord, PolygonPixelRegion\n",
    "from functools import reduce\n",
    "\n",
    "def region_from_mask(mask):\n",
    "    \n",
    "    # otherwiese we have problems with the edge of the image\n",
    "    mask[:,0] = False\n",
    "    mask[:,-1] = False\n",
    "    mask[0,:] = False\n",
    "    mask[-1,:] = False\n",
    "    \n",
    "    contours = find_contours(mask.astype(float),level=0.5)\n",
    "    \n",
    "    regs = []\n",
    "    for contour in contours:\n",
    "        regs.append(PolygonPixelRegion(PixCoord(*contour.T[::-1])))\n",
    "     \n",
    "    return regs\n",
    "    #return reduce(lambda x,y:x&y,regs)\n",
    "\n",
    "assoc_ID = 524\n",
    "reg = region_from_mask(np.isin(associations_mask.data,assoc_ID))\n",
    "reg_pix_hst = reduce(lambda x,y:x|y,reg)\n",
    "reg_sky = reg_pix_hst.to_sky(associations_mask.wcs)\n",
    "reg_pix_muse = reg_sky.to_pixel(Halpha.wcs)"
   ]
  },
  {
   "cell_type": "code",
   "execution_count": null,
   "metadata": {},
   "outputs": [],
   "source": [
    "from astropy.nddata import Cutout2D\n",
    "from astropy.visualization import simple_norm\n",
    "\n",
    "fig,ax=plt.subplots(figsize=(8,8))\n",
    "\n",
    "position = associations[associations['assoc_ID']==assoc_ID]['SkyCoord']\n",
    "cutout=Cutout2D(Halpha.data,position,size=20*u.arcsec,wcs=Halpha.wcs)\n",
    "\n",
    "norm = simple_norm(cutout.data,clip=False,percent=99)\n",
    "ax.imshow(cutout.data,norm=norm,cmap=plt.cm.Greys,origin='lower')\n",
    "\n",
    "#mask = (env_masks_neb.data==6).astype(float)\n",
    "#mask[mask==0.] = np.nan\n",
    "#ax.imshow(mask,alpha=0.5,origin='lower')\n",
    "\n",
    "reg_pix_muse = reg_sky.to_pixel(cutout.wcs)\n",
    "patch = reg_pix_muse.as_artist()\n",
    "ax.add_patch(patch)\n",
    "    \n",
    "\n",
    "ax.axis('off')\n",
    "\n",
    "plt.show()"
   ]
  },
  {
   "cell_type": "code",
   "execution_count": 43,
   "metadata": {},
   "outputs": [
    {
     "data": {
      "text/plain": [
       "104687.37103612526"
      ]
     },
     "execution_count": 43,
     "metadata": {},
     "output_type": "execute_result"
    }
   ],
   "source": [
    "np.sum(mask.multiply(cutout.data))"
   ]
  },
  {
   "cell_type": "code",
   "execution_count": 40,
   "metadata": {},
   "outputs": [
    {
     "data": {
      "text/plain": [
       "107960.30029335656"
      ]
     },
     "execution_count": 40,
     "metadata": {},
     "output_type": "execute_result"
    }
   ],
   "source": [
    "np.sum(mask.multiply(cutout.data))"
   ]
  },
  {
   "cell_type": "code",
   "execution_count": 44,
   "metadata": {},
   "outputs": [
    {
     "name": "stdout",
     "output_type": "stream",
     "text": [
      "reprojecting data\n"
     ]
    },
    {
     "name": "stderr",
     "output_type": "stream",
     "text": [
      "C:\\Users\\fabian\\miniconda3\\envs\\pymuse\\lib\\site-packages\\reproject\\spherical_intersect\\core.py:49: UserWarning: The reproject_exact function currently has precision issues with images that have resolutions below ~0.05 arcsec, so the results may not be accurate.\n",
      "  \"arcsec, so the results may not be accurate.\", UserWarning)\n",
      "C:\\Users\\fabian\\miniconda3\\envs\\pymuse\\lib\\site-packages\\reproject\\spherical_intersect\\core.py:49: UserWarning: The reproject_exact function currently has precision issues with images that have resolutions below ~0.05 arcsec, so the results may not be accurate.\n",
      "  \"arcsec, so the results may not be accurate.\", UserWarning)\n"
     ]
    }
   ],
   "source": [
    "print(f'reprojecting data')\n",
    "Halpha_repro = reproject_exact(Halpha,output_projection=associations_mask.wcs,\n",
    "                               shape_out=associations_mask.data.shape,return_footprint=False)\n",
    "Hbeta_repro = reproject_exact(Hbeta,output_projection=associations_mask.wcs,\n",
    "                               shape_out=associations_mask.data.shape,return_footprint=False)"
   ]
  },
  {
   "cell_type": "code",
   "execution_count": 54,
   "metadata": {},
   "outputs": [],
   "source": [
    "Halpha_flux = np.array([np.sum(Halpha_repro[associations_mask.data==assoc_ID]) for assoc_ID in associations['assoc_ID']])"
   ]
  },
  {
   "cell_type": "code",
   "execution_count": 75,
   "metadata": {},
   "outputs": [
    {
     "name": "stderr",
     "output_type": "stream",
     "text": [
      "100%|██████████████████████████████████████████████████████████████████████████████| 1463/1463 [01:35<00:00, 15.26it/s]\n"
     ]
    }
   ],
   "source": [
    "from tqdm import tqdm\n",
    "\n",
    "Halpha_from_mask = []\n",
    "for assoc_ID in tqdm(associations['assoc_ID']):\n",
    "    \n",
    "    position = associations[associations['assoc_ID']==assoc_ID]['SkyCoord']\n",
    "    try:\n",
    "        cutout_Halpha=Cutout2D(Halpha.data,position,size=12*u.arcsec,wcs=Halpha.wcs)\n",
    "    except:\n",
    "        Halpha_from_mask.append(np.nan)\n",
    "        continue\n",
    "    cutout_mask=Cutout2D(associations_mask.data,position,size=12*u.arcsec,wcs=associations_mask.wcs)\n",
    "\n",
    "    # in rare cases this will return multiple regions\n",
    "    reg_pix_hst = region_from_mask(np.isin(cutout_mask.data,assoc_ID))[0]\n",
    "    reg_sky = reg_pix_hst.to_sky(cutout_mask.wcs)\n",
    "    reg_pix_muse = reg_sky.to_pixel(cutout_Halpha.wcs)\n",
    "    mask = reg_pix_muse.to_mask(mode='subpixels',subpixels=16)\n",
    "    \n",
    "    Halpha_from_mask.append(np.sum(mask.multiply(cutout_Halpha.data)))"
   ]
  },
  {
   "cell_type": "code",
   "execution_count": 79,
   "metadata": {},
   "outputs": [
    {
     "data": {
      "image/png": "[encoded data removed]",
      "text/plain": [
       "<Figure size 360x360 with 1 Axes>"
      ]
     },
     "metadata": {
      "needs_background": "light"
     },
     "output_type": "display_data"
    }
   ],
   "source": [
    "fig,ax=plt.subplots(figsize=(5,5))\n",
    "\n",
    "ax.scatter(Halpha_flux/25,Halpha_from_mask)\n",
    "ax.plot([1e4,1e7],[1e4,1e7],color='black')\n",
    "ax.set(xscale='log',yscale='log',xlim=[1e4,1e7],ylim=[1e4,1e7])\n",
    "\n",
    "plt.show()"
   ]
  }
 ],
 "metadata": {
  "kernelspec": {
   "display_name": "Python 3",
   "language": "python",
   "name": "python3"
  },
  "language_info": {
   "codemirror_mode": {
    "name": "ipython",
    "version": 3
   },
   "file_extension": ".py",
   "mimetype": "text/x-python",
   "name": "python",
   "nbconvert_exporter": "python",
   "pygments_lexer": "ipython3",
   "version": "3.7.7"
  },
  "latex_envs": {
   "LaTeX_envs_menu_present": true,
   "autoclose": false,
   "autocomplete": true,
   "bibliofile": "biblio.bib",
   "cite_by": "apalike",
   "current_citInitial": 1,
   "eqLabelWithNumbers": true,
   "eqNumInitial": 1,
   "hotkeys": {
    "equation": "Ctrl-E",
    "itemize": "Ctrl-I"
   },
   "labels_anchors": false,
   "latex_user_defs": false,
   "report_style_numbering": false,
   "user_envs_cfg": false
  },
  "toc": {
   "base_numbering": 1,
   "nav_menu": {},
   "number_sections": true,
   "sideBar": true,
   "skip_h1_title": false,
   "title_cell": "Table of Contents",
   "title_sidebar": "Contents",
   "toc_cell": false,
   "toc_position": {},
   "toc_section_display": true,
   "toc_window_display": false
  }
 },
 "nbformat": 4,
 "nbformat_minor": 4
}
